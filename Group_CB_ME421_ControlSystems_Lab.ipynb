{
  "nbformat": 4,
  "nbformat_minor": 0,
  "metadata": {
    "colab": {
      "provenance": []
    },
    "kernelspec": {
      "name": "python3",
      "display_name": "Python 3"
    },
    "language_info": {
      "name": "python"
    }
  },
  "cells": [
    {
      "cell_type": "markdown",
      "metadata": {
        "id": "view-in-github"
      },
      "source": [
        "<a href=\"https://colab.research.google.com/github/mugalan/classical-mechanics-from-a-geometric-point-of-view/blob/main/mechanics/assignments/ME421_ControlSystems_Lab.ipynb\" target=\"_parent\"><img src=\"https://colab.research.google.com/assets/colab-badge.svg\" alt=\"Open In Colab\"/></a>"
      ]
    },
    {
      "cell_type": "markdown",
      "source": [
        "#Instructions"
      ],
      "metadata": {
        "id": "tjwc7ZikCWjn"
      }
    },
    {
      "cell_type": "markdown",
      "source": [
        "* This is a group assignment. Complete the activities in groups that were assigned for ME421 for the vibrations lab.\n",
        "\n",
        "* Make a copy of this and save it in your group github group repository.\n",
        "\n",
        "* Do all your work, EXCLUSIVELY, in that saved notebook. Your github commits will serve as a refelection of your individual contributions. It will constitute 25% of your final grade for the lab.\n",
        "\n",
        "* Complete all the first 3 tasks by 21/06/2023 and demonstrate the work in the class on 21/06/2023.\n",
        "\n",
        "* Complete Tasks#1 and Task#2 by 5:00PM on 14/06/2023\n",
        "\n",
        "* Complete Tasks#3 and the Task#4 by 5:00PM on 21/06/2023 and demonstrate the work in the class on 21/06/2023.\n",
        "\n",
        "* Complete Task#5 by 5:00PM on 28/06/2023."
      ],
      "metadata": {
        "id": "pOeY40kCCZIY"
      }
    },
    {
      "cell_type": "markdown",
      "source": [
        "#References"
      ],
      "metadata": {
        "id": "xQxmvsoX2wtl"
      }
    },
    {
      "cell_type": "markdown",
      "source": [
        "* https://colab.research.google.com/github/mugalan/classical-mechanics-from-a-geometric-point-of-view/blob/main/rigid-body-control/Mugas_Rigid_Body_Control.ipynb\n",
        "\n",
        "* https://github.com/mugalan/classical-mechanics-from-a-geometric-point-of-view/blob/main/rigid-body-control/MaithriPalaDHS_RigidBodyPIDControl_IITB_18_03_2023.pdf"
      ],
      "metadata": {
        "id": "N2PYkHmG2y9o"
      }
    },
    {
      "cell_type": "markdown",
      "source": [
        "#Task#1"
      ],
      "metadata": {
        "id": "JhWYC6Kv2l4k"
      }
    },
    {
      "cell_type": "markdown",
      "metadata": {
        "id": "GjPELOm2sJQg"
      },
      "source": [
        "Conside a rigid body moving in space. Let $\\mathbf{b}$ be a body fixed frame with the origin coinciding with that of the center of mass of the body, $M$ be the tatal mass of the body, $\\mathbb{I}$ be the inertia tensor of the body with respect to the body frame $\\mathbf{b}$, $f^e$ be the resultant total external interactions acting on the particles of the body, and $\\tau^e$ be the total resultant of the moments of the external interactions about the center of mass of the body.\n",
        "\n",
        "Show that a general rigid body is descibed by the following simple equations in an inertial frame $\\mathbf{e}$ where the moments are taken about the center of mass of the rigid body."
      ]
    },
    {
      "cell_type": "markdown",
      "metadata": {
        "id": "2FFWl8Whs8HJ"
      },
      "source": [
        "\\begin{align}\n",
        "\\dot{o}&=\\frac{1}{M}p\\\\\n",
        "\\dot{R}&=\\widehat{\\omega}R,\\\\\n",
        "\\dot{p}&=f^e+f^u,\\\\\n",
        "\\dot{\\pi}&=\\tau^e+\\tau^u,\n",
        "\\end{align}\n",
        "where\n",
        "\\begin{align}\n",
        "\\omega &=(\\mathbb{I}_c^R)^{-1}\\pi,\n",
        "\\end{align}\n",
        "Here we have split the force and control moments into unmanipulatable and manipulatable (control) part. The manipulatable (control) part will be denoted by a superscript $u$."
      ]
    },
    {
      "cell_type": "markdown",
      "source": [
        "#Task#2"
      ],
      "metadata": {
        "id": "PT5T8y9-3h1H"
      }
    },
    {
      "cell_type": "markdown",
      "source": [
        "Simulate the motion of a quadrotor UAV without resorting any parameterization of $SO(3)$ such as Euler angles or quaternions."
      ],
      "metadata": {
        "id": "iETMxXB04IZj"
      }
    },
    {
      "cell_type": "markdown",
      "source": [
        "#Task#3"
      ],
      "metadata": {
        "id": "iYtoUarB4L6Q"
      }
    },
    {
      "cell_type": "markdown",
      "source": [
        "Deerive a PID controller for the attitude control of a quadrorotor and use simulations to demibstrate the very large region of stability of the controller"
      ],
      "metadata": {
        "id": "AxOY5o-34TCz"
      }
    },
    {
      "cell_type": "markdown",
      "source": [
        "Here are few example our own implementations of this controller.\n",
        "\n",
        "* https://youtu.be/6E9WDQNVSYA\n",
        "* https://youtu.be/uUKxXImRMOA\n",
        "* https://youtu.be/zq05N8m_9SA\n",
        "* https://youtu.be/J5dThZGZN2g\n",
        "* https://youtu.be/J5MMp6Be3tU\n",
        "* https://youtu.be/6ZQgE1FI6Wc"
      ],
      "metadata": {
        "id": "cInu25giFEXw"
      }
    },
    {
      "cell_type": "markdown",
      "source": [
        "#Task#4"
      ],
      "metadata": {
        "id": "o6XRW2MR4nVw"
      }
    },
    {
      "cell_type": "markdown",
      "source": [
        "Derive a specialization of the controller develoed in Task#3 for the problem of stabilzing an inverted pendulum on a cart."
      ],
      "metadata": {
        "id": "u9vdw-yM4rem"
      }
    },
    {
      "cell_type": "markdown",
      "source": [
        "#Task#5"
      ],
      "metadata": {
        "id": "jkEiEv8sEPhG"
      }
    },
    {
      "cell_type": "markdown",
      "source": [
        " Experimentally verify the stability properties of the controller derived in Task#5 using the experimental setup available in the applied mechanics lab."
      ],
      "metadata": {
        "id": "w2WRdKSTEQ7i"
      }
    },
    {
      "cell_type": "markdown",
      "source": [
        "Task 1"
      ],
      "metadata": {
        "id": "Eo4iDC1KKOHD"
      }
    },
    {
      "cell_type": "markdown",
      "source": [
        "\\begin{align}\n",
        "x = o+ RX\n",
        "\\end{align}\n",
        "diffrentiate the above equation bt time,\n",
        "\\begin{align}\n",
        "\\dot{x}=\\dot{o}+\\dot{R}X+R\\dot{X}.\n",
        "\\end{align}\n",
        "Acceleration measured in two frames $\\ddot{x}$ and $\\ddot{X}$ are related by\n",
        "\\begin{align}\n",
        "\\ddot{x}=\\ddot{o}+\\ddot{R}X+2\\dot{R}\\dot{X}+R\\ddot{X}.\n",
        "\\end{align}\n",
        "\n",
        "Since $R^T(t)R(t)=I_{3\\times 3}$, it follows that $\\dot{R}^TR+R^T\\dot{R}=0$,\n",
        "and hence that\n",
        "\\begin{align*}\n",
        "R^T\\dot{R}=-(R^T\\dot{R})^T=\\widehat{\\Omega},\n",
        "\\end{align*}\n",
        "where $\\widehat{\\Omega}$ is a skew symmetric matrix. The space of all $3\\times 3$ skew-symmetric matrices is denoted by $\\mathrm{so}(3)$.\n",
        "\n",
        "\n",
        "Thus we have that if $R(t)\\in \\mathrm{SO}(3)$ then\n",
        "\\begin{align*}\n",
        "\\dot{R}&=R\\widehat{\\Omega},\n",
        "\\end{align*}\n",
        "where  $\\widehat{\\Omega}(t)\\in \\mathrm{so}(3)$.\n",
        "\n",
        "\n",
        "The total linear momentum of a set of particles can be written down as\n",
        "\\begin{align}\n",
        "p&=\\sum_{i}p_i=\\sum_{i}m_i\\left(\\dot{o}+R(\\widehat{\\Omega}{X}_i+\\dot{X}_i)\\right).\n",
        "\\end{align}\n",
        "In the case of a rigid body $\\dot{X}_i=0_{3\\times 1}$ and hence\n",
        "\\begin{align}\n",
        "p&=M(\\dot{o}+R\\widehat{\\Omega}\\bar{X})=M(\\dot{o}+\\widehat{\\omega}R\\bar{X})=M\\dot{\\bar{x}},\n",
        "\\end{align}\n",
        "where $M=\\sum_{i}m_i$, $\\bar{X}=\\sum_{i}m_i X_i/\\sum_{i}m_i$ is the center of mass of the rigid body represented with repect to frame $\\mathbf{b}$ fixed to the body (body frame).\n",
        "\n",
        "Therefore, the translational kinematics are given by\n",
        "\\begin{align}\n",
        "\\dot{o}&=\\frac{1}{M}p-\\omega \\times R\\bar{X}.\n",
        "\\end{align}\n",
        "\n",
        "We can derive the equations in another way as well.The motion of a set of interacting particles,\n",
        "\\begin{align}\n",
        "\\dot{p}&=M\\ddot{\\bar{x}}=f^e,\\\\\n",
        "\\dot{\\pi}&=-M\\dot{o}\\times \\dot{\\bar{x}}+\\tau_e\n",
        "\\end{align}\n",
        "where, \\\n",
        "$M=\\sum_{i=1}^nm_i$ \\\n",
        "$p=\\sum_{i=1}^np_i$ \\\n",
        "$f^e=\\sum_{i=1}^n f_i^e$ \\\n",
        "$\\pi =\\sum_{i=1}^n\\pi_i$. \\\n",
        "$\\tau^e=\\sum_{i=1}^n(x_i-o)\\times f_i^e$\n",
        "\n",
        "Let $o(t)$ be the representation of the origin $O'$ of the frame $\\mathbf{b}$ with respect to $\\mathbf{e}$ and let $\\mathbf{b}=\\mathbf{e}R(t)$. Also let $\\widehat{\\Omega}=R^T\\dot{R}$ and $\\omega =R\\Omega$.\n",
        "\n",
        "Let $\\bar{x}'\\triangleq (\\bar{x}-o)=R\\bar{X}'$. Differentiating this expression gives\n",
        "\\begin{align*}\n",
        "\\dot{\\bar{x}}'&= R(\\Omega \\times \\bar{X}') \\\\\n",
        "\\dot{\\bar{x}}'&= R\\Omega \\times R\\bar{X}' \\\\\n",
        "\\dot{\\bar{x}}'&= R\\Omega \\times \\bar{x}' \\\\\n",
        "\\dot{\\bar{x}}'&= \\omega \\times \\bar{x}' &\\: &; \\omega= R\\Omega \\\\\n",
        "\\dot{\\bar{x}}-\\dot{o} &=  \\omega \\times \\bar{x}' &\\: &; \\bar{x}'=(\\bar{x}-o) \\\\\n",
        "\\dot{o} &= \\dot{\\bar{x}} - \\omega \\times \\bar{x}' \\\\\n",
        "\\dot{o} &= \\frac{1}{M}p - \\omega \\times \\bar{x}' &\\: &; p= M\\dot{\\bar{x}}\n",
        "\\end{align*}\n",
        "\n",
        "Using the expressions $ \\widehat{\\Omega}=R^T\\dot{R}$ and $\\omega= R\\Omega$\n",
        "\\begin{align*}\n",
        "\\widehat{\\omega}{R} &= \\widehat{R\\Omega}R \\\\\n",
        "\\widehat{\\omega}{R} &= R\\widehat{\\Omega}R^TR \\\\\n",
        "\\widehat{\\omega}{R} &= RR^T\\dot{R}R^TR \\\\\n",
        "\\widehat{\\omega}{R} &= \\dot{R} &; RR^T=R^TR=I\n",
        "\\end{align*}\n",
        "\n",
        "\\begin{align}\n",
        "\\dot{o}&=\\frac{1}{M}p-\\omega \\times \\bar{x}',\\\\\n",
        "\\dot{R}&=\\widehat{\\omega}R,\\\\\n",
        "\\end{align}\n",
        "Note that if one choses to take the moments about the center of mass of the rigid body then then the above equations become even simpler:\n",
        "\n",
        "\\begin{align*}\n",
        "\\dot{o}&=\\frac{1}{M}p\\\\\n",
        "\\dot{R}&=\\widehat{\\omega}R,\\\\\n",
        "\\end{align*}\n",
        "\n",
        "E/17/037"
      ],
      "metadata": {
        "id": "vJndGorHNUXC"
      }
    }
  ]
}