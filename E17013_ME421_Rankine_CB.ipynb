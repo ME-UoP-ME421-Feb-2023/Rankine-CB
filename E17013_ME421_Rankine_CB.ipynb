{
  "nbformat": 4,
  "nbformat_minor": 0,
  "metadata": {
    "colab": {
      "provenance": []
    },
    "kernelspec": {
      "name": "python3",
      "display_name": "Python 3"
    },
    "language_info": {
      "name": "python"
    }
  },
  "cells": [
    {
      "cell_type": "code",
      "execution_count": 1,
      "metadata": {
        "id": "2gkWAtYCc2xN"
      },
      "outputs": [],
      "source": [
        "BB=[1.87510407,4.69409113,7.85475744,10.99554073,14.13716839,17.27875953,20.42035225,23.5619449,29.84513021]"
      ]
    },
    {
      "cell_type": "code",
      "source": [
        "# a = Beta*L\n",
        "a = [1.87510407,4.69409113,7.85475744,10.99554073,14.13716839,17.27875953,20.42035225,23.5619449,29.84513021]\n",
        "a"
      ],
      "metadata": {
        "colab": {
          "base_uri": "https://localhost:8080/"
        },
        "id": "ZGb8Po8KdJe0",
        "outputId": "ae4abd87-b468-452f-c1dd-055d5bcc9fc5"
      },
      "execution_count": 2,
      "outputs": [
        {
          "output_type": "execute_result",
          "data": {
            "text/plain": [
              "[1.87510407,\n",
              " 4.69409113,\n",
              " 7.85475744,\n",
              " 10.99554073,\n",
              " 14.13716839,\n",
              " 17.27875953,\n",
              " 20.42035225,\n",
              " 23.5619449,\n",
              " 29.84513021]"
            ]
          },
          "metadata": {},
          "execution_count": 2
        }
      ]
    },
    {
      "cell_type": "code",
      "source": [
        "import numpy as np\n",
        "from scipy import optimize\n",
        "\n",
        "# Define the beam properties\n",
        "a = 2e-3    # width (m)\n",
        "b = 5e-3    # height (m)\n",
        "E = 200e9   # Young's modulus (Pa)\n",
        "I = a*b**3/12  # moment of inertia (m^4)\n",
        "rho = 7850  # density (kg/m^3)\n",
        "L = 1      # length (m)\n",
        "A = a*b     # cross-sectional area (m^2)\n",
        "\n",
        "# Calculate the natural frequencies\n",
        "n = 9   # number of modes to calculate\n",
        "betaL = np.array([1.87510407, 4.69409113, 7.85475744, 10.99554073, 14.13716839,17.27875953,20.42035225,23.5619449,29.84513021])\n",
        "omega = betaL[:n]**2 * np.sqrt(E*I/(rho*A*L**4))\n",
        "\n",
        "# Print the natural frequencies\n",
        "print(\"Natural frequencies (Hz):\")\n",
        "for i in range(n):\n",
        "    print(f\"Mode {i+1}: {omega[i]/(2*np.pi):.2f}\")"
      ],
      "metadata": {
        "colab": {
          "base_uri": "https://localhost:8080/"
        },
        "id": "gg2XwwgqdOvh",
        "outputId": "a04e89df-c88d-4661-c7e0-c986ee809526"
      },
      "execution_count": 4,
      "outputs": [
        {
          "output_type": "stream",
          "name": "stdout",
          "text": [
            "Natural frequencies (Hz):\n",
            "Mode 1: 4.08\n",
            "Mode 2: 25.55\n",
            "Mode 3: 71.54\n",
            "Mode 4: 140.19\n",
            "Mode 5: 231.74\n",
            "Mode 6: 346.18\n",
            "Mode 7: 483.51\n",
            "Mode 8: 643.73\n",
            "Mode 9: 1032.82\n"
          ]
        }
      ]
    }
  ]
}