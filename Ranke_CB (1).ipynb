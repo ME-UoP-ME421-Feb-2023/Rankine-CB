{
  "nbformat": 4,
  "nbformat_minor": 0,
  "metadata": {
    "colab": {
      "provenance": []
    },
    "kernelspec": {
      "name": "python3",
      "display_name": "Python 3"
    },
    "language_info": {
      "name": "python"
    }
  },
  "cells": [
    {
      "cell_type": "markdown",
      "source": [
        "![image](https://user-images.githubusercontent.com/126839725/228459382-379f8811-72f5-4f49-a95c-4869ab9f0008.png)\n",
        "\n",
        "According to the Euler Beam equation,\n",
        "\n",
        "$${{\\partial^2 y} \\over {\\partial t^2}} +\\frac{EI} {\\rho A}{{\\partial^4 y} \\over {\\partial x^4}}=q(t,x)$$\n",
        "\n",
        "where $y$ is the transverse displacement of the beam, $\\rho$ is the density of the material of the beam, and $E$ is the modulus of rigidity, $I$is the cross sectional moment of inertia, and $A$ is the cross sectional area of the uniform beam.\n",
        "\n",
        "$${{\\partial^2 y} \\over {\\partial t^2}} +\\frac{EI} {\\rho A}{{\\partial^4 y} \\over {\\partial x^4}}=0$$\n",
        "\n",
        "for sovle the 4th order diffrential equation use the method of separation variable method.\n",
        "\n",
        "$$y(x,t) = Y(x)e^{j\\omega t}$$\n",
        "\n",
        "$${{\\partial y(x,t)} \\over {\\partial t}} = j\\omega Y(x) e^{j\\omega t}$$\n",
        "\n",
        "$${{\\partial^2 y(x,t)} \\over {\\partial t^2}} = -\\omega^2Y(x) e^{j\\omega t}$$\n",
        "\n",
        "Substitiut to the homogeneous Euler beam equation,\n",
        "\n",
        "$$e^{j\\omega t}\\frac{EI}{A\\rho}\\frac{d^4 Y(x)}{dx^4}-\\omega^2e^{j\\omega t}Y(x) = 0$$\n",
        "\n",
        "$$\\frac{EI}{A\\rho}\\frac{d^4 Y(x)}{dx^4}-\\omega^2Y(x) = 0$$\n",
        "\n",
        "$$\\frac{d^4 Y(x)}{dx^4}-\\omega^2\\left[\\frac{A\\rho}{EI}\\right]Y(x) = 0$$\n",
        "\n",
        "thake $\\beta$ as,           $\\omega^2\\left[\\frac{A\\rho}{EI}\\right] = \\beta^4$\n",
        "\n",
        "$$\\frac{d^4 Y(x)}{dx^4}-\\beta^4Y(x) = 0$$\n",
        "\n",
        "The spetial solution has the form,\n",
        "\n",
        "$$Y(x) = a_1sinh(\\beta x)+a_2cosh(\\beta x)+a_3sin(\\beta x)+a_4cos(\\beta x)$$\n",
        "\n",
        "$$\\frac{dY(x)}{dx} = a_1\\beta cosh(\\beta x)+a_2\\beta sinh(\\beta x)+a_3\\beta cos(\\beta x)-a_4\\beta sin(\\beta x)$$\n",
        "\n",
        "$$\\frac{d^2Y(x)}{dx^2} = a_1\\beta^2 sinch(\\beta x)+a_2\\beta^2 cosh(\\beta x)-a_3\\beta^2 sin(\\beta x)-a_4\\beta^2 cos(\\beta x)$$\n",
        "\n",
        "$$\\frac{d^3Y(x)}{dx^3} = a_1\\beta^3 cosh(\\beta x)+a_2\\beta^3 sinh(\\beta x)-a_3\\beta^3 cos(\\beta x)+a_4\\beta^3 sin(\\beta x)$$\n",
        "\n",
        "$$\\frac{d^4Y(x)}{dx^4} = a_1\\beta^4 sinh(\\beta x)+a_2\\beta^4 cosh(\\beta x)+a_3\\beta^4 sin(\\beta x)+a_4\\beta^4 cos(\\beta x)$$\n",
        "\n",
        "$$\\frac{d^4Y(x)}{dx^4} = \\beta^4[a_1 sinh(\\beta x)+a_2 cosh(\\beta x)+a_3 sin(\\beta x)+a_4cos(\\beta x)]$$\n",
        "\n",
        "Substitiute the sptial solution into the differential equation,\n",
        "\n",
        "$$\\beta^4[a_1 sinh(\\beta x)+a_2 cosh(\\beta x)+a_3 sin(\\beta x)+a_4cos(\\beta x)]-\\beta^4[a_1 sinh(\\beta x)+a_2 cosh(\\beta x)+a_3 sin(\\beta x)+a_4cos(\\beta x)] = 0$$\n",
        "\n",
        "the equation is satisfied\n",
        "consider the boundary conditions,\n",
        "\\begin{align}\n",
        "y(0) &= 0\\\\\n",
        "Y(0) &= a_1sinh(0)+a_2cosh(0)+a_3sin(0)+a_4cos(0) = 0\\\\\n",
        "a_2+a_4 &= 0\\\\\n",
        "\\frac{dY(0)}{dx} &= 0\\\\\n",
        "\\frac{dY(x)}{dx} &= a_1\\beta cosh(0)+a_2\\beta sinh(0)+a_3\\beta cos(0)-a_4\\beta sin(0)=0\\\\\n",
        "a_1+a_3 &= 0\n",
        "\\end{align}\n",
        "\n",
        "\n",
        "moment(M) and the shear force(V) at the free end are zero,\n",
        "\\begin{align}\n",
        "M &= \\left[EI\\frac{d^2Y(x)}{dX^2}\\right]|_{x=L} = 0\\\\\n",
        "M &= EI\\beta^2[a_1 sinch(\\beta L)+a_2cosh(\\beta L)-a_3 sin(\\beta L)-a_4cos(\\beta L)] = 0\\\\\n",
        "0 &=a_1(sinch(\\beta L)+sin(\\beta L))+a_2(cosh(\\beta L)+cos(\\beta L))\\\\\n",
        "V &= \\frac{d}{dx}\\left[EI\\frac{d^2Y(x)}{dX^2}\\right]|_{x=L} = 0\\\\\n",
        "V &=MI\\beta^3[a_1cosh(\\beta x)+a_2sinh(\\beta x)-a_3cos(\\beta x)+a_4sin(\\beta x)]\\\\\n",
        "0 &=MI\\beta^3[a_1cosh(\\beta L)+a_2sinh(\\beta L)+a_1cos(\\beta L)-a_2sin(\\beta L)]\\\\\n",
        "0 &= a_1(cosh(\\beta xL+cos(\\beta L))+a_2(sinh(\\beta L)-sin(\\beta L))\n",
        "\\end{align}\n",
        "\n",
        "Solve this 2 equation both $a_1$ and $a_2$ are zero\n",
        "\n",
        "there is infinite number of non-dimensional frequencies and eigen valus for each problem. back to the equation, we can rearrange it for the eigen vectors to determine the corresponding eigen function, the equation will become,\n",
        "\n",
        "\\begin{align}\n",
        "y(x,t) &= Y(x)[Acos(\\omega t)+Bsin(\\omega t)]\\\\\n",
        "Y(X) &= a_1sinh(\\beta t)+a_2cos(\\beta t)+a_3sin(\\beta t) +a_4cos(beta t)\\\\\n",
        "Y(x) = \\left[-\\left[\\frac{cosh(\\beta x)-cos(\\beta x)}{sinh(\\beta x)-sin(\\beta x)}\\right][sinh(\\beta x)-sin(\\beta x)+cosh(\\beta x)-cos(\\beta x)]\\right]\n",
        "\\end{align}\n",
        "\n",
        "$Y(x)$ is the characteristic equation for each frequencies.\n",
        "\n",
        "\\begin{align}\n",
        "y(x,t) &= Y_n(x)[A_ncos(\\omega t)+B_nsin(\\omega t)]\\\\\n",
        "y(x,t) &= \\left[-\\left[\\frac{cosh(\\beta_n x)-cos(\\beta_n x)}{sinh(\\beta_n x)-sin(\\beta_n x)}\\right][sinh(\\beta_n x)-sin(\\beta_n x)+cosh(\\beta_n x)-cos(\\beta_n x)]\\right][A_ncos(\\omega_n t)+B_nsin(\\omega_n t)] \n",
        "\\end{align}\n",
        "\n",
        "determine $A_n$ and $B_n$ initial conditions, $y(0,t) = 0$ and ${\\partial y(0,t) \\over \\partial x} = 0$\n",
        "\n",
        "both parameters are constanst and depend on the inertial condiation,\n",
        "\\begin{align}\n",
        "\\begin{bmatrix}y(x,t) = \\phi\\\\{\\partial y(0,t) \\over \\partial x} = \\zeta\\end{bmatrix} where \\  0 <x<L\\\\\n",
        "\\phi(x) &= \\sum_{n=1}^\\infty A_n Y_n(x)dx\\\\\n",
        "\\zeta(x) &= \\sum_{n=1}^\\infty \\omega_n B_n Y_n(x)dx\\\\\n",
        "\\end{align}\n",
        "\n",
        "These equations are analogous to the Fourier series expansions. Thus, both equations are determining the series expansions of\n",
        "the functions $\\phi(x)$, $z\\zeta(x)$ in terms of the characteristic functions $Y(x)$\n",
        "Finally, to find the constants $A_n$ and $B_n$\n",
        "we make use of the orthogonality for the characteristic functions; thus, by\n",
        "integrating these equations with respect to (x) from 0 to L and multiplying by $Y_n(x)$ we get the formulas for $A_n$ and $B_n$\n",
        "\n",
        "\\begin{align}\n",
        "A_n  &= \\frac{2}{L}\\int_{0}^x \\phi(x)Y_n(x)dx\\\\\n",
        "B_n &= \\frac{2}{\\omega_n L}\\int_{0}^{L}\\zeta(x)Y_n(x)dx\n",
        "\\end{align}"
      ],
      "metadata": {
        "id": "5bcpfIEWtG0q"
      }
    },
    {
      "cell_type": "code",
      "source": [
        "import numpy as np\n",
        "from numpy import linalg\n",
        "import scipy as sp\n",
        "import math\n",
        "from scipy.integrate import odeint\n",
        "#from matplotlib import animation, rc\n",
        "from IPython.display import HTML\n",
        "\n",
        "import plotly.graph_objects as go\n",
        "from sympy import *"
      ],
      "metadata": {
        "id": "IDmmQys2tMQT"
      },
      "execution_count": null,
      "outputs": []
    },
    {
      "cell_type": "code",
      "source": [
        "a1,a2,a3,a4,B,x,L=symbols('a_1,a_2,a_3,a_4,beta,x,L',real=True)"
      ],
      "metadata": {
        "id": "DBhlt95AuJFf"
      },
      "execution_count": null,
      "outputs": []
    },
    {
      "cell_type": "code",
      "source": [
        "Y = a1*sinh(B*x)+a2*cosh(B*x)+a3*sin(B*x)+a4*cos(B*x)"
      ],
      "metadata": {
        "id": "9V8Ks5CXvgoX"
      },
      "execution_count": null,
      "outputs": []
    },
    {
      "cell_type": "code",
      "source": [
        "Y"
      ],
      "metadata": {
        "colab": {
          "base_uri": "https://localhost:8080/",
          "height": 39
        },
        "id": "1vEDCm3Jvqf3",
        "outputId": "c519c0b9-25fe-4578-e3ee-76180e6e02ef"
      },
      "execution_count": null,
      "outputs": [
        {
          "output_type": "execute_result",
          "data": {
            "text/plain": [
              "a_1*sinh(beta*x) + a_2*cosh(beta*x) + a_3*sin(beta*x) + a_4*cos(beta*x)"
            ],
            "text/latex": "$\\displaystyle a_{1} \\sinh{\\left(\\beta x \\right)} + a_{2} \\cosh{\\left(\\beta x \\right)} + a_{3} \\sin{\\left(\\beta x \\right)} + a_{4} \\cos{\\left(\\beta x \\right)}$"
          },
          "metadata": {},
          "execution_count": 38
        }
      ]
    },
    {
      "cell_type": "code",
      "source": [
        "dY=diff(Y,x)\n",
        "dY"
      ],
      "metadata": {
        "colab": {
          "base_uri": "https://localhost:8080/",
          "height": 39
        },
        "id": "r7k6yni6v6d2",
        "outputId": "e12a283c-98c4-49c2-b7d9-a2e041f70b3e"
      },
      "execution_count": null,
      "outputs": [
        {
          "output_type": "execute_result",
          "data": {
            "text/plain": [
              "a_1*beta*cosh(beta*x) + a_2*beta*sinh(beta*x) + a_3*beta*cos(beta*x) - a_4*beta*sin(beta*x)"
            ],
            "text/latex": "$\\displaystyle a_{1} \\beta \\cosh{\\left(\\beta x \\right)} + a_{2} \\beta \\sinh{\\left(\\beta x \\right)} + a_{3} \\beta \\cos{\\left(\\beta x \\right)} - a_{4} \\beta \\sin{\\left(\\beta x \\right)}$"
          },
          "metadata": {},
          "execution_count": 39
        }
      ]
    },
    {
      "cell_type": "code",
      "source": [
        "ddY=diff(dY,x)\n",
        "ddY"
      ],
      "metadata": {
        "colab": {
          "base_uri": "https://localhost:8080/",
          "height": 39
        },
        "id": "6hWKVsIQwU2O",
        "outputId": "7130ab6a-84fd-4159-b615-f56c75c1457b"
      },
      "execution_count": null,
      "outputs": [
        {
          "output_type": "execute_result",
          "data": {
            "text/plain": [
              "a_1*beta**2*sinh(beta*x) + a_2*beta**2*cosh(beta*x) - a_3*beta**2*sin(beta*x) - a_4*beta**2*cos(beta*x)"
            ],
            "text/latex": "$\\displaystyle a_{1} \\beta^{2} \\sinh{\\left(\\beta x \\right)} + a_{2} \\beta^{2} \\cosh{\\left(\\beta x \\right)} - a_{3} \\beta^{2} \\sin{\\left(\\beta x \\right)} - a_{4} \\beta^{2} \\cos{\\left(\\beta x \\right)}$"
          },
          "metadata": {},
          "execution_count": 40
        }
      ]
    },
    {
      "cell_type": "code",
      "source": [
        "d3Y=diff(ddY,x)\n",
        "d3Y"
      ],
      "metadata": {
        "colab": {
          "base_uri": "https://localhost:8080/",
          "height": 39
        },
        "id": "58R9A1UPwnsA",
        "outputId": "959f9acd-7238-4a55-ca6e-9d233addc977"
      },
      "execution_count": null,
      "outputs": [
        {
          "output_type": "execute_result",
          "data": {
            "text/plain": [
              "a_1*beta**3*cosh(beta*x) + a_2*beta**3*sinh(beta*x) - a_3*beta**3*cos(beta*x) + a_4*beta**3*sin(beta*x)"
            ],
            "text/latex": "$\\displaystyle a_{1} \\beta^{3} \\cosh{\\left(\\beta x \\right)} + a_{2} \\beta^{3} \\sinh{\\left(\\beta x \\right)} - a_{3} \\beta^{3} \\cos{\\left(\\beta x \\right)} + a_{4} \\beta^{3} \\sin{\\left(\\beta x \\right)}$"
          },
          "metadata": {},
          "execution_count": 41
        }
      ]
    },
    {
      "cell_type": "code",
      "source": [
        "d4Y=diff(d3Y,x)\n",
        "d4Y"
      ],
      "metadata": {
        "colab": {
          "base_uri": "https://localhost:8080/",
          "height": 39
        },
        "id": "RTHutdyewtP7",
        "outputId": "bed750d9-9c6f-480c-e2ff-f93f3fafe0af"
      },
      "execution_count": null,
      "outputs": [
        {
          "output_type": "execute_result",
          "data": {
            "text/plain": [
              "a_1*beta**4*sinh(beta*x) + a_2*beta**4*cosh(beta*x) + a_3*beta**4*sin(beta*x) + a_4*beta**4*cos(beta*x)"
            ],
            "text/latex": "$\\displaystyle a_{1} \\beta^{4} \\sinh{\\left(\\beta x \\right)} + a_{2} \\beta^{4} \\cosh{\\left(\\beta x \\right)} + a_{3} \\beta^{4} \\sin{\\left(\\beta x \\right)} + a_{4} \\beta^{4} \\cos{\\left(\\beta x \\right)}$"
          },
          "metadata": {},
          "execution_count": 42
        }
      ]
    },
    {
      "cell_type": "markdown",
      "source": [
        "Defining equantions"
      ],
      "metadata": {
        "id": "Hamr2m0cxed1"
      }
    },
    {
      "cell_type": "code",
      "source": [
        "dY0 = dY.subs(x,0)"
      ],
      "metadata": {
        "id": "ZMOM_ytvy5Yn"
      },
      "execution_count": null,
      "outputs": []
    },
    {
      "cell_type": "code",
      "source": [
        "Eq1 = Eq(dY0,0)"
      ],
      "metadata": {
        "id": "0QTid1Wuxd3z"
      },
      "execution_count": null,
      "outputs": []
    },
    {
      "cell_type": "code",
      "source": [
        "Eq1"
      ],
      "metadata": {
        "colab": {
          "base_uri": "https://localhost:8080/",
          "height": 39
        },
        "id": "NsB5wb4syqz4",
        "outputId": "3ba0c716-ff86-42d0-e9ee-ac1b4e447875"
      },
      "execution_count": null,
      "outputs": [
        {
          "output_type": "execute_result",
          "data": {
            "text/plain": [
              "Eq(a_1*beta + a_3*beta, 0)"
            ],
            "text/latex": "$\\displaystyle a_{1} \\beta + a_{3} \\beta = 0$"
          },
          "metadata": {},
          "execution_count": 45
        }
      ]
    },
    {
      "cell_type": "code",
      "source": [
        "Y0 =Y.subs(x,0)\n",
        "Y0"
      ],
      "metadata": {
        "colab": {
          "base_uri": "https://localhost:8080/",
          "height": 39
        },
        "id": "K4kQx3GZzL1u",
        "outputId": "b40ae81b-9250-4030-9bc2-66c54db55bef"
      },
      "execution_count": null,
      "outputs": [
        {
          "output_type": "execute_result",
          "data": {
            "text/plain": [
              "a_2 + a_4"
            ],
            "text/latex": "$\\displaystyle a_{2} + a_{4}$"
          },
          "metadata": {},
          "execution_count": 46
        }
      ]
    },
    {
      "cell_type": "code",
      "source": [
        "Eq2 = Eq(Y0,0)\n",
        "Eq2"
      ],
      "metadata": {
        "colab": {
          "base_uri": "https://localhost:8080/",
          "height": 39
        },
        "id": "XvgPdJaP0NrO",
        "outputId": "3a2ce584-4ebe-47ba-a0de-1fec0d06acaa"
      },
      "execution_count": null,
      "outputs": [
        {
          "output_type": "execute_result",
          "data": {
            "text/plain": [
              "Eq(a_2 + a_4, 0)"
            ],
            "text/latex": "$\\displaystyle a_{2} + a_{4} = 0$"
          },
          "metadata": {},
          "execution_count": 47
        }
      ]
    },
    {
      "cell_type": "code",
      "source": [
        "ddYL = ddY.subs(x,L)\n",
        "ddYL"
      ],
      "metadata": {
        "colab": {
          "base_uri": "https://localhost:8080/",
          "height": 39
        },
        "id": "wlg6VFTG0UCt",
        "outputId": "14436c7a-bb4d-46e7-d88b-308204abba54"
      },
      "execution_count": null,
      "outputs": [
        {
          "output_type": "execute_result",
          "data": {
            "text/plain": [
              "a_1*beta**2*sinh(L*beta) + a_2*beta**2*cosh(L*beta) - a_3*beta**2*sin(L*beta) - a_4*beta**2*cos(L*beta)"
            ],
            "text/latex": "$\\displaystyle a_{1} \\beta^{2} \\sinh{\\left(L \\beta \\right)} + a_{2} \\beta^{2} \\cosh{\\left(L \\beta \\right)} - a_{3} \\beta^{2} \\sin{\\left(L \\beta \\right)} - a_{4} \\beta^{2} \\cos{\\left(L \\beta \\right)}$"
          },
          "metadata": {},
          "execution_count": 48
        }
      ]
    },
    {
      "cell_type": "code",
      "source": [
        "Eq3 = Eq(ddYL,0)\n",
        "Eq3"
      ],
      "metadata": {
        "colab": {
          "base_uri": "https://localhost:8080/",
          "height": 39
        },
        "id": "xkKX8Zw90vxP",
        "outputId": "0e8ba853-4881-4ce0-d23c-1433a930d584"
      },
      "execution_count": null,
      "outputs": [
        {
          "output_type": "execute_result",
          "data": {
            "text/plain": [
              "Eq(a_1*beta**2*sinh(L*beta) + a_2*beta**2*cosh(L*beta) - a_3*beta**2*sin(L*beta) - a_4*beta**2*cos(L*beta), 0)"
            ],
            "text/latex": "$\\displaystyle a_{1} \\beta^{2} \\sinh{\\left(L \\beta \\right)} + a_{2} \\beta^{2} \\cosh{\\left(L \\beta \\right)} - a_{3} \\beta^{2} \\sin{\\left(L \\beta \\right)} - a_{4} \\beta^{2} \\cos{\\left(L \\beta \\right)} = 0$"
          },
          "metadata": {},
          "execution_count": 49
        }
      ]
    },
    {
      "cell_type": "code",
      "source": [
        "d3YL = d3Y.subs(x,L)\n",
        "d3YL"
      ],
      "metadata": {
        "colab": {
          "base_uri": "https://localhost:8080/",
          "height": 39
        },
        "id": "U9XUvxle0u6C",
        "outputId": "84470128-24fd-4c8a-8aea-4d146b5f2756"
      },
      "execution_count": null,
      "outputs": [
        {
          "output_type": "execute_result",
          "data": {
            "text/plain": [
              "a_1*beta**3*cosh(L*beta) + a_2*beta**3*sinh(L*beta) - a_3*beta**3*cos(L*beta) + a_4*beta**3*sin(L*beta)"
            ],
            "text/latex": "$\\displaystyle a_{1} \\beta^{3} \\cosh{\\left(L \\beta \\right)} + a_{2} \\beta^{3} \\sinh{\\left(L \\beta \\right)} - a_{3} \\beta^{3} \\cos{\\left(L \\beta \\right)} + a_{4} \\beta^{3} \\sin{\\left(L \\beta \\right)}$"
          },
          "metadata": {},
          "execution_count": 50
        }
      ]
    },
    {
      "cell_type": "code",
      "source": [
        "Eq4 = Eq(d3YL,0)\n",
        "Eq4"
      ],
      "metadata": {
        "colab": {
          "base_uri": "https://localhost:8080/",
          "height": 39
        },
        "id": "y_4C54PH1CFf",
        "outputId": "f02fa0be-102d-4e6b-8ed9-93c17cbb9fcc"
      },
      "execution_count": null,
      "outputs": [
        {
          "output_type": "execute_result",
          "data": {
            "text/plain": [
              "Eq(a_1*beta**3*cosh(L*beta) + a_2*beta**3*sinh(L*beta) - a_3*beta**3*cos(L*beta) + a_4*beta**3*sin(L*beta), 0)"
            ],
            "text/latex": "$\\displaystyle a_{1} \\beta^{3} \\cosh{\\left(L \\beta \\right)} + a_{2} \\beta^{3} \\sinh{\\left(L \\beta \\right)} - a_{3} \\beta^{3} \\cos{\\left(L \\beta \\right)} + a_{4} \\beta^{3} \\sin{\\left(L \\beta \\right)} = 0$"
          },
          "metadata": {},
          "execution_count": 51
        }
      ]
    },
    {
      "cell_type": "markdown",
      "source": [
        "Solving equations"
      ],
      "metadata": {
        "id": "G7HQbnPL1LUy"
      }
    },
    {
      "cell_type": "code",
      "source": [
        "Sol = solve((Eq1,Eq2,Eq3,Eq4),(a1,a2,a3,a4))\n",
        "Sol"
      ],
      "metadata": {
        "colab": {
          "base_uri": "https://localhost:8080/"
        },
        "id": "G1KLXa411LAN",
        "outputId": "804db3a5-bb06-44ea-a989-a7208cf73161"
      },
      "execution_count": null,
      "outputs": [
        {
          "output_type": "execute_result",
          "data": {
            "text/plain": [
              "{a_1: 0, a_2: 0, a_3: 0, a_4: 0}"
            ]
          },
          "metadata": {},
          "execution_count": 52
        }
      ]
    },
    {
      "cell_type": "code",
      "source": [],
      "metadata": {
        "id": "-bRkuL4b3VAs"
      },
      "execution_count": null,
      "outputs": []
    },
    {
      "cell_type": "markdown",
      "source": [],
      "metadata": {
        "id": "2GwnK3Xj4J3Z"
      }
    },
    {
      "cell_type": "code",
      "source": [
        "Eq3"
      ],
      "metadata": {
        "colab": {
          "base_uri": "https://localhost:8080/",
          "height": 39
        },
        "id": "tUCKAJoT4Inr",
        "outputId": "0196bcfb-4996-4e77-fc68-a5270ceb6863"
      },
      "execution_count": null,
      "outputs": [
        {
          "output_type": "execute_result",
          "data": {
            "text/plain": [
              "Eq(a_1*beta**2*sinh(L*beta) + a_2*beta**2*cosh(L*beta) - a_3*beta**2*sin(L*beta) - a_4*beta**2*cos(L*beta), 0)"
            ],
            "text/latex": "$\\displaystyle a_{1} \\beta^{2} \\sinh{\\left(L \\beta \\right)} + a_{2} \\beta^{2} \\cosh{\\left(L \\beta \\right)} - a_{3} \\beta^{2} \\sin{\\left(L \\beta \\right)} - a_{4} \\beta^{2} \\cos{\\left(L \\beta \\right)} = 0$"
          },
          "metadata": {},
          "execution_count": 53
        }
      ]
    },
    {
      "cell_type": "code",
      "source": [
        "Eq51 = Eq3.subs(a3,-a1)\n",
        "Eq52 = Eq51.subs(a4,-a2)\n",
        "Eq52\n"
      ],
      "metadata": {
        "colab": {
          "base_uri": "https://localhost:8080/",
          "height": 39
        },
        "id": "NUIt1YD-4V-w",
        "outputId": "965257ec-c652-4edb-d5c9-32e0b0b2f465"
      },
      "execution_count": null,
      "outputs": [
        {
          "output_type": "execute_result",
          "data": {
            "text/plain": [
              "Eq(a_1*beta**2*sin(L*beta) + a_1*beta**2*sinh(L*beta) + a_2*beta**2*cos(L*beta) + a_2*beta**2*cosh(L*beta), 0)"
            ],
            "text/latex": "$\\displaystyle a_{1} \\beta^{2} \\sin{\\left(L \\beta \\right)} + a_{1} \\beta^{2} \\sinh{\\left(L \\beta \\right)} + a_{2} \\beta^{2} \\cos{\\left(L \\beta \\right)} + a_{2} \\beta^{2} \\cosh{\\left(L \\beta \\right)} = 0$"
          },
          "metadata": {},
          "execution_count": 54
        }
      ]
    },
    {
      "cell_type": "code",
      "source": [
        "Eq7=factor(Eq52)\n",
        "Eq7"
      ],
      "metadata": {
        "colab": {
          "base_uri": "https://localhost:8080/",
          "height": 39
        },
        "id": "0qEtoRCt49zH",
        "outputId": "4c43052b-577c-4d9e-b875-7df2b572fbeb"
      },
      "execution_count": null,
      "outputs": [
        {
          "output_type": "execute_result",
          "data": {
            "text/plain": [
              "Eq(beta**2*(a_1*sin(L*beta) + a_1*sinh(L*beta) + a_2*cos(L*beta) + a_2*cosh(L*beta)), 0)"
            ],
            "text/latex": "$\\displaystyle \\beta^{2} \\left(a_{1} \\sin{\\left(L \\beta \\right)} + a_{1} \\sinh{\\left(L \\beta \\right)} + a_{2} \\cos{\\left(L \\beta \\right)} + a_{2} \\cosh{\\left(L \\beta \\right)}\\right) = 0$"
          },
          "metadata": {},
          "execution_count": 55
        }
      ]
    },
    {
      "cell_type": "code",
      "source": [
        "Eq4"
      ],
      "metadata": {
        "colab": {
          "base_uri": "https://localhost:8080/",
          "height": 39
        },
        "id": "alcF0WIC4UL8",
        "outputId": "5cfe11d5-7c3e-4070-9bc9-d423972731a2"
      },
      "execution_count": null,
      "outputs": [
        {
          "output_type": "execute_result",
          "data": {
            "text/plain": [
              "Eq(a_1*beta**3*cosh(L*beta) + a_2*beta**3*sinh(L*beta) - a_3*beta**3*cos(L*beta) + a_4*beta**3*sin(L*beta), 0)"
            ],
            "text/latex": "$\\displaystyle a_{1} \\beta^{3} \\cosh{\\left(L \\beta \\right)} + a_{2} \\beta^{3} \\sinh{\\left(L \\beta \\right)} - a_{3} \\beta^{3} \\cos{\\left(L \\beta \\right)} + a_{4} \\beta^{3} \\sin{\\left(L \\beta \\right)} = 0$"
          },
          "metadata": {},
          "execution_count": 56
        }
      ]
    },
    {
      "cell_type": "code",
      "source": [
        "Eq61 = Eq4.subs(a3,-a1)\n",
        "Eq62 = Eq61.subs(a4,-a2)\n",
        "Eq62"
      ],
      "metadata": {
        "colab": {
          "base_uri": "https://localhost:8080/",
          "height": 39
        },
        "id": "5lrRcReE5as5",
        "outputId": "b5d1701e-e886-4eb5-ca40-78843f83bd27"
      },
      "execution_count": null,
      "outputs": [
        {
          "output_type": "execute_result",
          "data": {
            "text/plain": [
              "Eq(a_1*beta**3*cos(L*beta) + a_1*beta**3*cosh(L*beta) - a_2*beta**3*sin(L*beta) + a_2*beta**3*sinh(L*beta), 0)"
            ],
            "text/latex": "$\\displaystyle a_{1} \\beta^{3} \\cos{\\left(L \\beta \\right)} + a_{1} \\beta^{3} \\cosh{\\left(L \\beta \\right)} - a_{2} \\beta^{3} \\sin{\\left(L \\beta \\right)} + a_{2} \\beta^{3} \\sinh{\\left(L \\beta \\right)} = 0$"
          },
          "metadata": {},
          "execution_count": 57
        }
      ]
    },
    {
      "cell_type": "code",
      "source": [
        "Eq8=factor(Eq62)\n",
        "Eq8"
      ],
      "metadata": {
        "colab": {
          "base_uri": "https://localhost:8080/",
          "height": 39
        },
        "id": "cDF0hAnq5hbj",
        "outputId": "5ed25625-5654-4ea1-8d54-36b30a309ad3"
      },
      "execution_count": null,
      "outputs": [
        {
          "output_type": "execute_result",
          "data": {
            "text/plain": [
              "Eq(beta**3*(a_1*cos(L*beta) + a_1*cosh(L*beta) - a_2*sin(L*beta) + a_2*sinh(L*beta)), 0)"
            ],
            "text/latex": "$\\displaystyle \\beta^{3} \\left(a_{1} \\cos{\\left(L \\beta \\right)} + a_{1} \\cosh{\\left(L \\beta \\right)} - a_{2} \\sin{\\left(L \\beta \\right)} + a_{2} \\sinh{\\left(L \\beta \\right)}\\right) = 0$"
          },
          "metadata": {},
          "execution_count": 58
        }
      ]
    },
    {
      "cell_type": "code",
      "source": [
        "latex(Eq7)"
      ],
      "metadata": {
        "colab": {
          "base_uri": "https://localhost:8080/",
          "height": 53
        },
        "id": "-oNvRa4h6MNH",
        "outputId": "296a578d-175e-4c68-b445-0bf25bda4c4a"
      },
      "execution_count": null,
      "outputs": [
        {
          "output_type": "execute_result",
          "data": {
            "text/plain": [
              "'\\\\beta^{2} \\\\left(a_{1} \\\\sin{\\\\left(L \\\\beta \\\\right)} + a_{1} \\\\sinh{\\\\left(L \\\\beta \\\\right)} + a_{2} \\\\cos{\\\\left(L \\\\beta \\\\right)} + a_{2} \\\\cosh{\\\\left(L \\\\beta \\\\right)}\\\\right) = 0'"
            ],
            "application/vnd.google.colaboratory.intrinsic+json": {
              "type": "string"
            }
          },
          "metadata": {},
          "execution_count": 59
        }
      ]
    },
    {
      "cell_type": "code",
      "source": [
        "latex(Eq8)"
      ],
      "metadata": {
        "colab": {
          "base_uri": "https://localhost:8080/",
          "height": 53
        },
        "id": "6Muwyfo56OsO",
        "outputId": "5d2f9e40-ea0d-4201-8425-abbb6c5a5812"
      },
      "execution_count": null,
      "outputs": [
        {
          "output_type": "execute_result",
          "data": {
            "text/plain": [
              "'\\\\beta^{3} \\\\left(a_{1} \\\\cos{\\\\left(L \\\\beta \\\\right)} + a_{1} \\\\cosh{\\\\left(L \\\\beta \\\\right)} - a_{2} \\\\sin{\\\\left(L \\\\beta \\\\right)} + a_{2} \\\\sinh{\\\\left(L \\\\beta \\\\right)}\\\\right) = 0'"
            ],
            "application/vnd.google.colaboratory.intrinsic+json": {
              "type": "string"
            }
          },
          "metadata": {},
          "execution_count": 60
        }
      ]
    },
    {
      "cell_type": "markdown",
      "source": [
        "\\begin{align}\n",
        "\\beta^{2} \\left(a_{1} \\sin{\\left(L \\beta \\right)} + a_{1} \\sinh{\\left(L \\beta \\right)} + a_{2} \\cos{\\left(L \\beta \\right)} + a_{2} \\cosh{\\left(L \\beta \\right)}\\right) = 0\n",
        "\\\\\n",
        "a_{1} \\left( \\sin{\\left(L \\beta \\right)} + \\sinh{\\left(L \\beta \\right)} \\right)  = -a_{2}\\left( \\cos{\\left(L \\beta \\right)} + \\cosh{\\left(L \\beta \\right)}\\right)\n",
        "\\end{align}"
      ],
      "metadata": {
        "id": "Sy0ofoYo6TBE"
      }
    },
    {
      "cell_type": "markdown",
      "source": [
        "\\begin{align}\n",
        "\\beta^{3} \\left(a_{1} \\cos{\\left(L \\beta \\right)} + a_{1} \\cosh{\\left(L \\beta \\right)} - a_{2} \\sin{\\left(L \\beta \\right)} + a_{2} \\sinh{\\left(L \\beta \\right)}\\right) = 0\n",
        "\\\\\n",
        "a_{1}\\left( \\cos{\\left(L \\beta \\right)} + \\cosh{\\left(L \\beta \\right)}\\right) = a_{2} \\left( \\sin{\\left(L \\beta \\right)} - \\sinh{\\left(L \\beta \\right)} \\right)  \n",
        "\\end{align}"
      ],
      "metadata": {
        "id": "7HaDudBs6_HS"
      }
    },
    {
      "cell_type": "markdown",
      "source": [
        "Dividing equations\n",
        "\n"
      ],
      "metadata": {
        "id": "cOpaPqzZ7tP5"
      }
    },
    {
      "cell_type": "code",
      "source": [
        "F9 = (sin(L*B)+sinh(L*B))*(sin(L*B)-sinh(L*B)) + (cos(L*B)+cosh(L*B))*(cos(L*B)+ cosh(L*B))"
      ],
      "metadata": {
        "id": "o6DLxOO-7sin"
      },
      "execution_count": null,
      "outputs": []
    },
    {
      "cell_type": "code",
      "source": [
        "Eq9 = Eq(F9,0)\n",
        "Eq9"
      ],
      "metadata": {
        "colab": {
          "base_uri": "https://localhost:8080/",
          "height": 40
        },
        "id": "F6A2woN0-KQW",
        "outputId": "7214b6e1-7975-46fd-c1c2-19f75a5a5752"
      },
      "execution_count": null,
      "outputs": [
        {
          "output_type": "execute_result",
          "data": {
            "text/plain": [
              "Eq((sin(L*beta) - sinh(L*beta))*(sin(L*beta) + sinh(L*beta)) + (cos(L*beta) + cosh(L*beta))**2, 0)"
            ],
            "text/latex": "$\\displaystyle \\left(\\sin{\\left(L \\beta \\right)} - \\sinh{\\left(L \\beta \\right)}\\right) \\left(\\sin{\\left(L \\beta \\right)} + \\sinh{\\left(L \\beta \\right)}\\right) + \\left(\\cos{\\left(L \\beta \\right)} + \\cosh{\\left(L \\beta \\right)}\\right)^{2} = 0$"
          },
          "metadata": {},
          "execution_count": 62
        }
      ]
    },
    {
      "cell_type": "code",
      "source": [
        "Eq10=trigsimp(Eq9)\n",
        "Eq10"
      ],
      "metadata": {
        "colab": {
          "base_uri": "https://localhost:8080/",
          "height": 39
        },
        "id": "rTDrIHhs-RBH",
        "outputId": "4a7889a0-c90c-4e40-cc7a-ccd90c28304e"
      },
      "execution_count": null,
      "outputs": [
        {
          "output_type": "execute_result",
          "data": {
            "text/plain": [
              "Eq(2*cos(L*beta)*cosh(L*beta) + 2, 0)"
            ],
            "text/latex": "$\\displaystyle 2 \\cos{\\left(L \\beta \\right)} \\cosh{\\left(L \\beta \\right)} + 2 = 0$"
          },
          "metadata": {},
          "execution_count": 63
        }
      ]
    },
    {
      "cell_type": "code",
      "source": [
        "import numpy as np\n",
        "from scipy import optimize\n",
        "\n",
        "def f(x):\n",
        "  return np.cos(x)+1/np.cosh(x)\n",
        "\n",
        "x_range = np.linspace(0,25,25)\n",
        "\n",
        "roots = []\n",
        "for x0 in x_range:\n",
        "  root = optimize.fsolve(f,x0)\n",
        "  if np.abs(f(root))<1e-6:\n",
        "    roots.append(root)\n",
        "\n",
        "roots\n"
      ],
      "metadata": {
        "id": "iELsXmQD_GB5",
        "colab": {
          "base_uri": "https://localhost:8080/"
        },
        "outputId": "7da670a7-8f99-4001-9386-4af556d8ac32"
      },
      "execution_count": null,
      "outputs": [
        {
          "output_type": "stream",
          "name": "stderr",
          "text": [
            "<ipython-input-64-90dd9bb2bac2>:5: RuntimeWarning: overflow encountered in cosh\n",
            "  return np.cos(x)+1/np.cosh(x)\n"
          ]
        },
        {
          "output_type": "execute_result",
          "data": {
            "text/plain": [
              "[array([1.87510407]),\n",
              " array([1.87510407]),\n",
              " array([1.87510407]),\n",
              " array([4.69409113]),\n",
              " array([4.69409113]),\n",
              " array([-10.99554073]),\n",
              " array([7.85475744]),\n",
              " array([7.85475744]),\n",
              " array([-10.99554073]),\n",
              " array([10.99554073]),\n",
              " array([10.99554073]),\n",
              " array([-17.27875953]),\n",
              " array([14.13716839]),\n",
              " array([14.13716839]),\n",
              " array([-29.84513021]),\n",
              " array([17.27875953]),\n",
              " array([17.27875953]),\n",
              " array([10.99554073]),\n",
              " array([20.42035225]),\n",
              " array([20.42035225]),\n",
              " array([17.27875953]),\n",
              " array([23.5619449]),\n",
              " array([23.5619449]),\n",
              " array([17.27875953])]"
            ]
          },
          "metadata": {},
          "execution_count": 64
        }
      ]
    },
    {
      "cell_type": "code",
      "source": [
        "# a = Beta*L\n",
        "a = [1.87510407,4.69409113,7.85475744,10.99554073,14.13716839,17.27875953,20.42035225,23.5619449]\n",
        "a"
      ],
      "metadata": {
        "colab": {
          "base_uri": "https://localhost:8080/"
        },
        "id": "VSxtv7EJnAhe",
        "outputId": "74705181-e307-413c-c14b-c32ff7510090"
      },
      "execution_count": null,
      "outputs": [
        {
          "output_type": "execute_result",
          "data": {
            "text/plain": [
              "[1.87510407,\n",
              " 4.69409113,\n",
              " 7.85475744,\n",
              " 10.99554073,\n",
              " 14.13716839,\n",
              " 17.27875953,\n",
              " 20.42035225,\n",
              " 23.5619449]"
            ]
          },
          "metadata": {},
          "execution_count": 65
        }
      ]
    },
    {
      "cell_type": "code",
      "source": [
        "# Define the beam properties\n",
        "a = 1e-2    # width (m)\n",
        "b = 5e-3    # height (m)\n",
        "E = 200e9   # Young's modulus (Pa)\n",
        "I = a*b**3/12  # moment of inertia (m^4)\n",
        "rho = 7850  # density (kg/m^3)\n",
        "L = 10       # length (m)\n",
        "A = a*b     # cross-sectional area (m^2)\n",
        "\n",
        "# Calculate the natural frequencies\n",
        "n = 5       # number of modes to calculate\n",
        "beta = np.array([1.87510407, 4.69409113, 7.85475744, 10.99554073, 14.13716839])\n",
        "omega = beta[:n]**2 * np.sqrt(E*I/(rho*A*L**4))\n",
        "\n",
        "# Print the natural frequencies\n",
        "print(\"Natural frequencies (Hz):\")\n",
        "for i in range(n):\n",
        "    print(f\"Mode {i+1}: {omega[i]/(2*np.pi):.2f}\")"
      ],
      "metadata": {
        "colab": {
          "base_uri": "https://localhost:8080/"
        },
        "id": "-UBSISRSFrnd",
        "outputId": "a2b2148d-bc3b-4866-f12f-4a13465b7b0e"
      },
      "execution_count": null,
      "outputs": [
        {
          "output_type": "stream",
          "name": "stdout",
          "text": [
            "Natural frequencies (Hz):\n",
            "Mode 1: 0.04\n",
            "Mode 2: 0.26\n",
            "Mode 3: 0.72\n",
            "Mode 4: 1.40\n",
            "Mode 5: 2.32\n"
          ]
        }
      ]
    },
    {
      "cell_type": "code",
      "source": [
        "import numpy as np\n",
        "\n",
        "# Define beam properties\n",
        "E = 200e9   # Young's modulus (Pa)\n",
        "rho = 7850  # density (kg/m^3)\n",
        "L = 0.1    # length (m)\n",
        "b = 0.003     # height (m)\n",
        "h = 0.002     # width (m)\n",
        "I = b*h**3/12  # moment of inertia (m^4)\n",
        "A = b*h     # cross-sectional area (m^2)\n",
        "\n",
        "# Calculate natural frequencies and mode shapes\n",
        "n = 5       # number of modes to calculate\n",
        "beta = np.array([1.87510407, 4.69409113, 7.85475744, 10.99554073, 14.13716839])\n",
        "omega = beta[:n]**2 * np.sqrt(E*I/(rho*A*L**4))\n",
        "mode_shapes = np.zeros((n, 100))\n",
        "c=0\n",
        "\n",
        "\n",
        "for i in range(n):\n",
        "    x = np.linspace(0, L, 100)\n",
        "    for j in range(i):\n",
        "      c=c+(-((np.cosh(beta[j]*x)-np.cos(beta[j]*x))/(np.sinh(beta[j]*x-np.sin([j]*x))))*(np.sinh(beta[j]*x)-np.sin(beta[j]*x))+np.cosh(beta[j]*x)-np.cos(beta[j]*x))\n",
        "      mode_shapes[j, :] = c\n",
        "      \n",
        "\n",
        "# Print the natural frequencies\n",
        "print(\"Natural frequencies (Hz):\")\n",
        "for i in range(n):\n",
        "    print(f\"Mode {i+1}: {omega[i]/(2*np.pi):.2f}\")\n",
        "\n",
        "# Plot the mode shapes\n",
        "import matplotlib.pyplot as plt\n",
        "fig, axs = plt.subplots(n, 1, figsize=(6, 8))\n",
        "\n",
        "for i in range(n):\n",
        "    axs[i].plot(x, mode_shapes[i])\n",
        "    axs[i].set_xlabel(\"Position (m)\")\n",
        "    axs[i].set_ylabel(\"Deflection (m)\")\n",
        "    axs[i].set_title(f\"Mode {i+1}\")\n",
        "\n",
        "plt.tight_layout()\n",
        "plt.show()\n"
      ],
      "metadata": {
        "colab": {
          "base_uri": "https://localhost:8080/",
          "height": 946
        },
        "id": "-JotOVTY02Ar",
        "outputId": "824bfbce-8d32-4bca-c559-0384496abfa6"
      },
      "execution_count": 1,
      "outputs": [
        {
          "output_type": "stream",
          "name": "stderr",
          "text": [
            "<ipython-input-1-6412d9cd3531>:23: RuntimeWarning: invalid value encountered in true_divide\n",
            "  c=c+(-((np.cosh(beta[j]*x)-np.cos(beta[j]*x))/(np.sinh(beta[j]*x-np.sin([j]*x))))*(np.sinh(beta[j]*x)-np.sin(beta[j]*x))+np.cosh(beta[j]*x)-np.cos(beta[j]*x))\n"
          ]
        },
        {
          "output_type": "stream",
          "name": "stdout",
          "text": [
            "Natural frequencies (Hz):\n",
            "Mode 1: 163.08\n",
            "Mode 2: 1021.98\n",
            "Mode 3: 2861.58\n",
            "Mode 4: 5607.55\n",
            "Mode 5: 9269.68\n"
          ]
        },
        {
          "output_type": "display_data",
          "data": {
            "text/plain": [
              "<Figure size 600x800 with 5 Axes>"
            ],
            "image/png": "[encoded data removed]"
          },
          "metadata": {}
        }
      ]
    }
  ]
}