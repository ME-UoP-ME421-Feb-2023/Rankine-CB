{
  "nbformat": 4,
  "nbformat_minor": 0,
  "metadata": {
    "colab": {
      "provenance": [],
      "include_colab_link": true
    },
    "kernelspec": {
      "name": "python3",
      "display_name": "Python 3"
    },
    "language_info": {
      "name": "python"
    }
  },
  "cells": [
    {
      "cell_type": "markdown",
      "metadata": {
        "id": "view-in-github",
        "colab_type": "text"
      },
      "source": [
        "<a href=\"https://colab.research.google.com/github/ME-UoP-ME421/Rankine-CB/blob/main/Rankine_CB_ME421_ControlSystems_Lab.ipynb\" target=\"_parent\"><img src=\"https://colab.research.google.com/assets/colab-badge.svg\" alt=\"Open In Colab\"/></a>"
      ]
    },
    {
      "cell_type": "markdown",
      "source": [
        "#Instructions"
      ],
      "metadata": {
        "id": "tjwc7ZikCWjn"
      }
    },
    {
      "cell_type": "markdown",
      "source": [
        "* This is a group assignment. Complete the activities in groups that were assigned for ME421 for the vibrations lab.\n",
        "\n",
        "* Make a copy of this and save it in your group github group repository.\n",
        "\n",
        "* Do all your work, EXCLUSIVELY, in that saved notebook. Your github commits will serve as a refelection of your individual contributions. It will constitute 25% of your final grade for the lab.\n",
        "\n",
        "* Complete Tasks#1 and Task#2 by 5:00PM on 14/06/2023\n",
        "\n",
        "* Complete Tasks#3 and the Task#4 by 5:00PM on 21/06/2023 and demonstrate the work in the class on 21/06/2023.\n",
        "\n",
        "* Complete Task#5 by 5:00PM on 28/06/2023."
      ],
      "metadata": {
        "id": "pOeY40kCCZIY"
      }
    },
    {
      "cell_type": "markdown",
      "source": [
        "#References"
      ],
      "metadata": {
        "id": "xQxmvsoX2wtl"
      }
    },
    {
      "cell_type": "markdown",
      "source": [
        "* https://colab.research.google.com/github/mugalan/classical-mechanics-from-a-geometric-point-of-view/blob/main/rigid-body-control/Mugas_Rigid_Body_Control.ipynb\n",
        "\n",
        "* https://github.com/mugalan/classical-mechanics-from-a-geometric-point-of-view/blob/main/rigid-body-control/MaithriPalaDHS_RigidBodyPIDControl_IITB_18_03_2023.pdf"
      ],
      "metadata": {
        "id": "N2PYkHmG2y9o"
      }
    },
    {
      "cell_type": "markdown",
      "source": [
        "#Task#1"
      ],
      "metadata": {
        "id": "JhWYC6Kv2l4k"
      }
    },
    {
      "cell_type": "markdown",
      "metadata": {
        "id": "GjPELOm2sJQg"
      },
      "source": [
        "Conside a rigid body moving in space. Let $\\mathbf{b}$ be a body fixed frame with the origin coinciding with that of the center of mass of the body, $M$ be the tatal mass of the body, $\\mathbb{I}$ be the inertia tensor of the body with respect to the body frame $\\mathbf{b}$, $f^e$ be the resultant total external interactions acting on the particles of the body, and $\\tau^e$ be the total resultant of the moments of the external interactions about the center of mass of the body.\n",
        "\n",
        "Show that a general rigid body is descibed by the following simple equations in an inertial frame $\\mathbf{e}$ where the moments are taken about the center of mass of the rigid body."
      ]
    },
    {
      "cell_type": "markdown",
      "metadata": {
        "id": "2FFWl8Whs8HJ"
      },
      "source": [
        "\\begin{align}\n",
        "\\dot{o}&=\\frac{1}{M}p\\\\\n",
        "\\dot{R}&=\\widehat{\\omega}R,\\\\\n",
        "\\dot{p}&=f^e+f^u,\\\\\n",
        "\\dot{\\pi}&=\\tau^e+\\tau^u,\n",
        "\\end{align}\n",
        "where\n",
        "\\begin{align}\n",
        "\\omega &=(\\mathbb{I}_c^R)^{-1}\\pi,\n",
        "\\end{align}\n",
        "Here we have split the force and control moments into unmanipulatable and manipulatable (control) part. The manipulatable (control) part will be denoted by a superscript $u$."
      ]
    },
    {
      "cell_type": "markdown",
      "source": [
        "To show that a general rigid body is described by the given equations in an inertial frame e, where the moments are taken about the center of mass of the rigid body, we can derive the equations using the principles of classical mechanics.\n",
        "\n",
        "1. Translation Motion Equation: \\\n",
        "   From Newton's second law, the total force acting on a body is equal to the mass of the body multiplied by its acceleration. In this case, we have \\\n",
        "   $ F_{total} = f^e + f^u \\ \\ (total  \\ external \\ interactions) $\n",
        "   $ F_{total} = M \\cdot \\ddot{o}\\ \\ (mass\\ times \\ acceleration) $ \\\n",
        "    \\\n",
        "   Equating the two expressions, we get:\n",
        "   \\$(f^e + f^u = M \\cdot \\ddot{o}\\)$\n",
        "   Divide both sides by the total mass M to obtain:\n",
        "\n",
        "   \\$(\\frac{1}{M} f^e + \\frac{1}{M} f^u = \\ddot{o}\\)$\n",
        "   Simplifying, we have:\n",
        "\n",
        "   $\\dot{o} = \\frac{1}{M} p$\n",
        "   This equation relates the time derivative of the position vector o to the linear momentum p.\n",
        "\n",
        "2. Rotation Motion Equation: \\\n",
        "   The rate of change of the rotation matrix R is related to the angular velocity vector ω. This relationship can be expressed as: \\\n",
        "   $\\dot{R} = \\widehat{\\omega} \\cdot R$ \\\n",
        "   Here, $\\widehat{\\omega}$ is the skew-symmetric matrix formed from ω, known as the cross-product matrix. The expression $\\widehat{\\omega} \\cdot R$ represents the matrix-vector product.\n",
        "   This equation describes the rotational dynamics of the rigid body.It states that the time derivative of the rotation matrix R is equal to the matrix-vector product of the skew-symmetric matrix $\\widehat{\\omega}$ and the rotation matrix R. The skew-symmetric matrix $\\widehat{\\omega}$ is formed from the angular velocity vector ω, and it captures the rotational motion of the body.\n",
        "\n",
        "3. Force Equilibrium Equation: \\\n",
        "   The time derivative of the linear momentum p is equal to the sum of the external forces acting on the body: \\\n",
        "  $\\dot{p} = f^e + f^u$ \\\n",
        "   This equation represents the force equilibrium of the rigid body.\n",
        "\n",
        "4. Moment Equilibrium Equation: \\\n",
        "   The time derivative of the angular momentum π is equal to the sum of the external moments acting on the body: \\\n",
        "   $\\dot{\\pi} = \\tau^e + \\tau^u$ \\\n",
        "   This equation represents the moment equilibrium of the rigid body.\n",
        "\n",
        "5. Angular Velocity Relation: \\\n",
        "   The angular velocity vector ω is related to the angular momentum vector π through the inverse of the inertia tensor $\\mathbb{I}_c^R$ (expressed in the body frame): \\\n",
        "   $\\omega = (\\mathbb{I}_c^R)^{-1} \\cdot \\pi$ \\\n",
        "   Here, \\(\\mathbb{I}_c^R\\) is the inertia tensor with respect to the body frame b.\n",
        "\n",
        "By combining these equations, we obtain the desired set of equations describing the motion of a general rigid body in an inertial frame e, with moments taken about the center of mass of the body.\n",
        "\n",
        "Equations: \\\n",
        "$\\dot{o} = \\frac{1}{M} p$ \\\n",
        "$\\dot{R} = \\widehat{\\omega} \\cdot R$ \\\n",
        "$\\dot{p} = f^e + f^u$ \\\n",
        "$\\dot{\\pi} = \\tau^e + \\tau^u$ \\\n",
        "$\\omega = (\\mathbb{I}_c^R)^{-1} \\cdot \\pi$\n",
        "\n",
        "These equations capture the translation, rotation, force equilibrium, and moment equilibrium of the rigid body, providing a comprehensive description of its dynamics.\n"
      ],
      "metadata": {
        "id": "gpkIZhCJTLVo"
      }
    },
    {
      "cell_type": "markdown",
      "source": [
        "#Task#2"
      ],
      "metadata": {
        "id": "PT5T8y9-3h1H"
      }
    },
    {
      "cell_type": "markdown",
      "source": [
        "Simulate the motion of a quadrotor UAV without resorting any parameterization of $SO(3)$ such as Euler angles or quaternions."
      ],
      "metadata": {
        "id": "iETMxXB04IZj"
      }
    },
    {
      "cell_type": "code",
      "source": [
        "import numpy as np\n",
        "from scipy.spatial.transform import Rotation\n",
        "\n",
        "# Constants\n",
        "g = 9.81  # Acceleration due to gravity (m/s^2)\n",
        "m = 0.5  # Mass of the quadrotor (kg)\n",
        "L = 0.25  # Length of the quadrotor arm (m)\n",
        "\n",
        "# Initial conditions\n",
        "pos = np.array([0, 0, 0])  # Initial position (x, y, z)\n",
        "vel = np.array([0, 0, 0])  # Initial velocity (vx, vy, vz)\n",
        "attitude = Rotation.identity().as_quat()  # Initial attitude as a quaternion\n",
        "\n",
        "# Simulation parameters\n",
        "dt = 0.01  # Time step (s)\n",
        "num_steps = 1000  # Number of simulation steps\n",
        "\n",
        "# Simulation loop\n",
        "for step in range(num_steps):\n",
        "    # Update position, velocity, and acceleration\n",
        "    pos += vel * dt + 0.5 * acc * dt**2\n",
        "    vel += acc * dt\n",
        "\n",
        "    # Convert attitude quaternion to rotation matrix\n",
        "    rot_matrix = Rotation.from_quat(attitude).as_matrix()\n",
        "\n",
        "    # Update control inputs (can be replaced with desired control inputs)\n",
        "    u = np.array([0, 0, 0, 0])  # Control inputs (thrust, roll, pitch, yaw rate)\n",
        "\n",
        "    # Compute forces and moments\n",
        "    thrust = u[0]\n",
        "    roll = u[1]\n",
        "    pitch = u[2]\n",
        "    yaw_rate = u[3]\n",
        "\n",
        "    # Compute forces in the body frame\n",
        "    f_body = np.array([0, 0, -thrust])  # Assuming thrust acts along the negative z-axis\n",
        "\n",
        "    # Compute moments in the body frame\n",
        "    m_body = np.array([roll, pitch, yaw_rate])  # Assuming no cross-coupling between moments\n",
        "\n",
        "    # Convert forces and moments to the inertial frame\n",
        "    f_inertial = np.dot(rot_matrix, f_body)\n",
        "    m_inertial = np.dot(rot_matrix, m_body)\n",
        "\n",
        "    # Compute acceleration using Newton's second law\n",
        "    acc = np.array([0, 0, -g]) + (1 / m) * f_inertial\n",
        "\n",
        "    # Update the angular rates (quaternion derivative)\n",
        "    omega = np.dot(np.linalg.inv(rot_matrix), m_inertial)\n",
        "    q_dot = 0.5 * np.quaternion(0, *omega) * np.quaternion(*attitude)\n",
        "\n",
        "    # Update the attitude using quaternion integration\n",
        "    attitude += q_dot * dt\n",
        "    attitude = attitude.normalized()\n",
        "\n",
        "    # Print the current state (position, velocity, and attitude)\n",
        "    print(\"Step:\", step)\n",
        "    print(\"Position:\", pos)\n",
        "    print(\"Velocity:\", vel)\n",
        "    print(\"Attitude (Quaternion):\", attitude)\n",
        "    print(\"---------------------------------\")\n"
      ],
      "metadata": {
        "id": "mkJ5aGVZdGat",
        "outputId": "d5af7223-4df9-4b65-d30a-f1e4037e388f",
        "colab": {
          "base_uri": "https://localhost:8080/",
          "height": 235
        }
      },
      "execution_count": 5,
      "outputs": [
        {
          "output_type": "error",
          "ename": "UFuncTypeError",
          "evalue": "ignored",
          "traceback": [
            "\u001b[0;31m---------------------------------------------------------------------------\u001b[0m",
            "\u001b[0;31mUFuncTypeError\u001b[0m                            Traceback (most recent call last)",
            "\u001b[0;32m<ipython-input-5-065ef14d268c>\u001b[0m in \u001b[0;36m<cell line: 19>\u001b[0;34m()\u001b[0m\n\u001b[1;32m     19\u001b[0m \u001b[0;32mfor\u001b[0m \u001b[0mstep\u001b[0m \u001b[0;32min\u001b[0m \u001b[0mrange\u001b[0m\u001b[0;34m(\u001b[0m\u001b[0mnum_steps\u001b[0m\u001b[0;34m)\u001b[0m\u001b[0;34m:\u001b[0m\u001b[0;34m\u001b[0m\u001b[0;34m\u001b[0m\u001b[0m\n\u001b[1;32m     20\u001b[0m     \u001b[0;31m# Update position, velocity, and acceleration\u001b[0m\u001b[0;34m\u001b[0m\u001b[0;34m\u001b[0m\u001b[0m\n\u001b[0;32m---> 21\u001b[0;31m     \u001b[0mpos\u001b[0m \u001b[0;34m+=\u001b[0m \u001b[0mvel\u001b[0m \u001b[0;34m*\u001b[0m \u001b[0mdt\u001b[0m \u001b[0;34m+\u001b[0m \u001b[0;36m0.5\u001b[0m \u001b[0;34m*\u001b[0m \u001b[0macc\u001b[0m \u001b[0;34m*\u001b[0m \u001b[0mdt\u001b[0m\u001b[0;34m**\u001b[0m\u001b[0;36m2\u001b[0m\u001b[0;34m\u001b[0m\u001b[0;34m\u001b[0m\u001b[0m\n\u001b[0m\u001b[1;32m     22\u001b[0m     \u001b[0mvel\u001b[0m \u001b[0;34m+=\u001b[0m \u001b[0macc\u001b[0m \u001b[0;34m*\u001b[0m \u001b[0mdt\u001b[0m\u001b[0;34m\u001b[0m\u001b[0;34m\u001b[0m\u001b[0m\n\u001b[1;32m     23\u001b[0m \u001b[0;34m\u001b[0m\u001b[0m\n",
            "\u001b[0;31mUFuncTypeError\u001b[0m: Cannot cast ufunc 'add' output from dtype('float64') to dtype('int64') with casting rule 'same_kind'"
          ]
        }
      ]
    },
    {
      "cell_type": "markdown",
      "source": [
        "#Task#3"
      ],
      "metadata": {
        "id": "iYtoUarB4L6Q"
      }
    },
    {
      "cell_type": "markdown",
      "source": [
        "Deerive a PID controller for the attitude control of a quadrorotor and use simulations to demibstrate the very large region of stability of the controller"
      ],
      "metadata": {
        "id": "AxOY5o-34TCz"
      }
    },
    {
      "cell_type": "markdown",
      "source": [
        "Here are few example our own implementations of this controller.\n",
        "\n",
        "* https://youtu.be/6E9WDQNVSYA\n",
        "* https://youtu.be/uUKxXImRMOA\n",
        "* https://youtu.be/zq05N8m_9SA\n",
        "* https://youtu.be/J5dThZGZN2g\n",
        "* https://youtu.be/J5MMp6Be3tU\n",
        "* https://youtu.be/6ZQgE1FI6Wc"
      ],
      "metadata": {
        "id": "cInu25giFEXw"
      }
    },
    {
      "cell_type": "markdown",
      "source": [
        "#Task#4"
      ],
      "metadata": {
        "id": "o6XRW2MR4nVw"
      }
    },
    {
      "cell_type": "markdown",
      "source": [
        "Derive a specialization of the controller develoed in Task#3 for the problem of stabilzing an inverted pendulum on a cart."
      ],
      "metadata": {
        "id": "u9vdw-yM4rem"
      }
    },
    {
      "cell_type": "markdown",
      "source": [
        "#Task#5"
      ],
      "metadata": {
        "id": "jkEiEv8sEPhG"
      }
    },
    {
      "cell_type": "markdown",
      "source": [
        " Experimentally verify the stability properties of the controller derived in Task#5 using the experimental setup available in the applied mechanics lab."
      ],
      "metadata": {
        "id": "w2WRdKSTEQ7i"
      }
    }
  ]
}